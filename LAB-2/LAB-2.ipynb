{
 "cells": [
  {
   "cell_type": "markdown",
   "metadata": {},
   "source": [
    "# Lab2\n",
    "Name: Birva Babaria || Rollno: CE010 || ID: 19CEUON064"
   ]
  },
  {
   "cell_type": "markdown",
   "metadata": {},
   "source": [
    "### ***HANDLING MISSING VALUES*** "
   ]
  },
  {
   "cell_type": "code",
   "execution_count": 2,
   "metadata": {},
   "outputs": [
    {
     "name": "stdout",
     "output_type": "stream",
     "text": [
      "\n",
      "Data :\n",
      "       Unnamed: 0  Price   Age     KM FuelType   HP  MetColor  Automatic    CC  \\\n",
      "0              0  13500  23.0  46986   Diesel   90       1.0          0  2000   \n",
      "1              1  13750  23.0  72937   Diesel   90       1.0          0  2000   \n",
      "2              2  13950  24.0  41711   Diesel   90       NaN          0  2000   \n",
      "3              3  14950  26.0  48000   Diesel   90       0.0          0  2000   \n",
      "4              4  13750  30.0  38500   Diesel   90       0.0          0  2000   \n",
      "...          ...    ...   ...    ...      ...  ...       ...        ...   ...   \n",
      "1431        1431   7500   NaN  20544   Petrol   86       1.0          0  1300   \n",
      "1432        1432  10845  72.0     ??   Petrol   86       0.0          0  1300   \n",
      "1433        1433   8500   NaN  17016   Petrol   86       0.0          0  1300   \n",
      "1434        1434   7250  70.0     ??      NaN   86       1.0          0  1300   \n",
      "1435        1435   6950  76.0      1   Petrol  110       0.0          0  1600   \n",
      "\n",
      "      Doors  Weight  \n",
      "0     three    1165  \n",
      "1         3    1165  \n",
      "2         3    1165  \n",
      "3         3    1165  \n",
      "4         3    1170  \n",
      "...     ...     ...  \n",
      "1431      3    1025  \n",
      "1432      3    1015  \n",
      "1433      3    1015  \n",
      "1434      3    1015  \n",
      "1435      5    1114  \n",
      "\n",
      "[1436 rows x 11 columns]\n"
     ]
    }
   ],
   "source": [
    "import numpy as np \n",
    "import pandas as pd\n",
    "from sklearn.impute import SimpleImputer\n",
    "datasets = pd.read_csv('./Exercise-CarData.csv') \n",
    "print(\"\\nData :\\n\",datasets)"
   ]
  },
  {
   "cell_type": "code",
   "execution_count": 3,
   "metadata": {},
   "outputs": [
    {
     "name": "stdout",
     "output_type": "stream",
     "text": [
      "\n",
      "Data statistics :\n",
      "         Unnamed: 0         Price          Age     MetColor    Automatic  \\\n",
      "count  1436.000000   1436.000000  1336.000000  1286.000000  1436.000000   \n",
      "mean    717.500000  10730.824513    55.672156     0.674961     0.055710   \n",
      "std     414.681806   3626.964585    18.589804     0.468572     0.229441   \n",
      "min       0.000000   4350.000000     1.000000     0.000000     0.000000   \n",
      "25%     358.750000   8450.000000    43.000000     0.000000     0.000000   \n",
      "50%     717.500000   9900.000000    60.000000     1.000000     0.000000   \n",
      "75%    1076.250000  11950.000000    70.000000     1.000000     0.000000   \n",
      "max    1435.000000  32500.000000    80.000000     1.000000     1.000000   \n",
      "\n",
      "                CC      Weight  \n",
      "count  1436.000000  1436.00000  \n",
      "mean   1566.827994  1072.45961  \n",
      "std     187.182436    52.64112  \n",
      "min    1300.000000  1000.00000  \n",
      "25%    1400.000000  1040.00000  \n",
      "50%    1600.000000  1070.00000  \n",
      "75%    1600.000000  1085.00000  \n",
      "max    2000.000000  1615.00000  \n"
     ]
    }
   ],
   "source": [
    "print(\"\\nData statistics :\\n\",datasets.describe())"
   ]
  },
  {
   "cell_type": "code",
   "execution_count": 4,
   "metadata": {},
   "outputs": [
    {
     "name": "stdout",
     "output_type": "stream",
     "text": [
      "\n",
      "\n",
      "Input : \n",
      " [[0 13500 23.0 ... 0 2000 'three']\n",
      " [1 13750 23.0 ... 0 2000 '3']\n",
      " [2 13950 24.0 ... 0 2000 '3']\n",
      " ...\n",
      " [1433 8500 nan ... 0 1300 '3']\n",
      " [1434 7250 70.0 ... 0 1300 '3']\n",
      " [1435 6950 76.0 ... 0 1600 '5']]\n",
      "\n",
      "\n",
      "Output: \n",
      " [1165 1165 1165 ... 1015 1015 1114]\n"
     ]
    }
   ],
   "source": [
    "# All rows, all columns except last \n",
    "X = datasets.iloc[:, :-1].values \n",
    "  \n",
    "# Only last column  \n",
    "Y = datasets.iloc[:, -1].values \n",
    "\n",
    "print(\"\\n\\nInput : \\n\", X) \n",
    "print(\"\\n\\nOutput: \\n\", Y) "
   ]
  },
  {
   "cell_type": "code",
   "execution_count": 5,
   "metadata": {},
   "outputs": [
    {
     "name": "stdout",
     "output_type": "stream",
     "text": [
      "\n",
      "New Data :       Unnamed: 0  Price   Age     KM FuelType   HP  MetColor  Automatic    CC  \\\n",
      "0              0  13500  23.0  46986   Diesel   90       1.0          0  2000   \n",
      "1              1  13750  23.0  72937   Diesel   90       1.0          0  2000   \n",
      "2              2  13950  24.0  41711   Diesel   90       NaN          0  2000   \n",
      "3              3  14950  26.0  48000   Diesel   90       0.0          0  2000   \n",
      "4              4  13750  30.0  38500   Diesel   90       0.0          0  2000   \n",
      "...          ...    ...   ...    ...      ...  ...       ...        ...   ...   \n",
      "1431        1431   7500   NaN  20544   Petrol   86       1.0          0  1300   \n",
      "1432        1432  10845  72.0     ??   Petrol   86       0.0          0  1300   \n",
      "1433        1433   8500   NaN  17016   Petrol   86       0.0          0  1300   \n",
      "1434        1434   7250  70.0     ??      NaN   86       1.0          0  1300   \n",
      "1435        1435   6950  76.0      1   Petrol  110       0.0          0  1600   \n",
      "\n",
      "      Doors  Weight  \n",
      "0     three    1165  \n",
      "1         3    1165  \n",
      "2         3    1165  \n",
      "3         3    1165  \n",
      "4         3    1170  \n",
      "...     ...     ...  \n",
      "1431      3    1025  \n",
      "1432      3    1015  \n",
      "1433      3    1015  \n",
      "1434      3    1015  \n",
      "1435      5    1114  \n",
      "\n",
      "[1436 rows x 11 columns]\n"
     ]
    }
   ],
   "source": [
    "#removing row with all null value\n",
    "datasets.dropna(axis=1,how='all',inplace=True)\n",
    "print(\"\\nNew Data :\",datasets)"
   ]
  },
  {
   "cell_type": "code",
   "execution_count": 6,
   "metadata": {},
   "outputs": [
    {
     "name": "stdout",
     "output_type": "stream",
     "text": [
      "\n",
      "New Data :       Unnamed: 0  Price   Age     KM FuelType   HP  MetColor  Automatic    CC  \\\n",
      "0              0  13500  23.0  46986   Diesel   90       1.0          0  2000   \n",
      "1              1  13750  23.0  72937   Diesel   90       1.0          0  2000   \n",
      "3              3  14950  26.0  48000   Diesel   90       0.0          0  2000   \n",
      "4              4  13750  30.0  38500   Diesel   90       0.0          0  2000   \n",
      "5              5  12950  32.0  61000   Diesel   90       0.0          0  2000   \n",
      "...          ...    ...   ...    ...      ...  ...       ...        ...   ...   \n",
      "1425        1425   7950  80.0     ??   Petrol   86       1.0          0  1300   \n",
      "1429        1429   8950  78.0  24000   Petrol   86       1.0          1  1300   \n",
      "1430        1430   8450  80.0  23000   Petrol   86       0.0          0  1300   \n",
      "1432        1432  10845  72.0     ??   Petrol   86       0.0          0  1300   \n",
      "1435        1435   6950  76.0      1   Petrol  110       0.0          0  1600   \n",
      "\n",
      "      Doors  Weight  \n",
      "0     three    1165  \n",
      "1         3    1165  \n",
      "3         3    1165  \n",
      "4         3    1170  \n",
      "5         3    1170  \n",
      "...     ...     ...  \n",
      "1425      4    1000  \n",
      "1429      5    1065  \n",
      "1430      3    1015  \n",
      "1432      3    1015  \n",
      "1435      5    1114  \n",
      "\n",
      "[1111 rows x 11 columns]\n"
     ]
    }
   ],
   "source": [
    "# Removing the row with any one null values\n",
    "\n",
    "datasets.dropna(axis=0,how='any',inplace=True)\n",
    "print(\"\\nNew Data :\",datasets)\n",
    "datasets=datasets.replace(to_replace=\"??\",value=50000)"
   ]
  },
  {
   "cell_type": "code",
   "execution_count": 7,
   "metadata": {},
   "outputs": [
    {
     "name": "stdout",
     "output_type": "stream",
     "text": [
      "\n",
      "New Data :       Unnamed: 0  Price   Age     KM FuelType   HP  MetColor  Automatic    CC  \\\n",
      "0              0  13500  23.0  46986   Diesel   90       1.0          0  2000   \n",
      "1              1  13750  23.0  72937   Diesel   90       1.0          0  2000   \n",
      "3              3  14950  26.0  48000   Diesel   90       0.0          0  2000   \n",
      "4              4  13750  30.0  38500   Diesel   90       0.0          0  2000   \n",
      "5              5  12950  32.0  61000   Diesel   90       0.0          0  2000   \n",
      "...          ...    ...   ...    ...      ...  ...       ...        ...   ...   \n",
      "1425        1425   7950  80.0  50000   Petrol   86       1.0          0  1300   \n",
      "1429        1429   8950  78.0  24000   Petrol   86       1.0          1  1300   \n",
      "1430        1430   8450  80.0  23000   Petrol   86       0.0          0  1300   \n",
      "1432        1432  10845  72.0  50000   Petrol   86       0.0          0  1300   \n",
      "1435        1435   6950  76.0      1   Petrol  110       0.0          0  1600   \n",
      "\n",
      "     Doors  Weight  \n",
      "0        3    1165  \n",
      "1        3    1165  \n",
      "3        3    1165  \n",
      "4        3    1170  \n",
      "5        3    1170  \n",
      "...    ...     ...  \n",
      "1425     4    1000  \n",
      "1429     5    1065  \n",
      "1430     3    1015  \n",
      "1432     3    1015  \n",
      "1435     5    1114  \n",
      "\n",
      "[1111 rows x 11 columns]\n"
     ]
    }
   ],
   "source": [
    "datasets=datasets.replace(to_replace=\"three\",value=3)\n",
    "print(\"\\nNew Data :\",datasets)"
   ]
  },
  {
   "cell_type": "markdown",
   "metadata": {},
   "source": [
    "### ***DATA TRANSFORMATION*** "
   ]
  },
  {
   "cell_type": "code",
   "execution_count": 8,
   "metadata": {},
   "outputs": [
    {
     "name": "stdout",
     "output_type": "stream",
     "text": [
      "\n",
      "\n",
      "Input : \n",
      " [[0 13500 23.0 ... 0 2000 3]\n",
      " [1 13750 23.0 ... 0 2000 '3']\n",
      " [3 14950 26.0 ... 0 2000 '3']\n",
      " ...\n",
      " [1430 8450 80.0 ... 0 1300 '3']\n",
      " [1432 10845 72.0 ... 0 1300 '3']\n",
      " [1435 6950 76.0 ... 0 1600 '5']]\n",
      "\n",
      "\n",
      "Output: \n",
      " [1165 1165 1165 ... 1015 1015 1114]\n",
      "\n",
      "\n",
      "X for transformation : \n",
      " [[13500 23.0 '46986']\n",
      " [13750 23.0 '72937']\n",
      " [14950 26.0 '48000']\n",
      " ...\n",
      " [8450 80.0 '23000']\n",
      " [10845 72.0 50000]\n",
      " [6950 76.0 '1']]\n"
     ]
    }
   ],
   "source": [
    "from sklearn.preprocessing import MinMaxScaler, StandardScaler\n",
    "\n",
    "# All rows, all columns except last \n",
    "X = datasets.iloc[:, :-1].values \n",
    "  \n",
    "# Only last column  \n",
    "Y = datasets.iloc[:, -1].values \n",
    "\n",
    "print(\"\\n\\nInput : \\n\", X) \n",
    "print(\"\\n\\nOutput: \\n\", Y) \n",
    "\n",
    "X_new = datasets.iloc[:,1:4].values\n",
    "print(\"\\n\\nX for transformation : \\n\", X_new)"
   ]
  },
  {
   "cell_type": "code",
   "execution_count": 9,
   "metadata": {},
   "outputs": [
    {
     "name": "stdout",
     "output_type": "stream",
     "text": [
      "\n",
      "\n",
      "Scaled X : \n",
      " [[0.33983287 0.27848101 0.19335471]\n",
      " [0.34911792 0.27848101 0.30014938]\n",
      " [0.39368617 0.3164557  0.19752756]\n",
      " ...\n",
      " [0.15227484 1.         0.09464648]\n",
      " [0.24122563 0.89873418 0.20575805]\n",
      " [0.09656453 0.94936709 0.        ]]\n"
     ]
    }
   ],
   "source": [
    "scaler = MinMaxScaler()\n",
    "X_scaled = scaler.fit_transform(X_new)\n",
    "print(\"\\n\\nScaled X : \\n\", X_scaled)"
   ]
  },
  {
   "cell_type": "code",
   "execution_count": 10,
   "metadata": {},
   "outputs": [
    {
     "name": "stdout",
     "output_type": "stream",
     "text": [
      "\n",
      "\n",
      "Standardized X : \n",
      " [[ 0.73687953 -1.73138817 -0.58258384]\n",
      " [ 0.80448309 -1.73138817  0.10178722]\n",
      " [ 1.12898017 -1.57198932 -0.55584297]\n",
      " ...\n",
      " [-0.62871237  1.29719009 -1.21513458]\n",
      " [ 0.01892973  0.87212647 -0.50309964]\n",
      " [-1.03433373  1.08465828 -1.82165648]]\n"
     ]
    }
   ],
   "source": [
    "std = StandardScaler()\n",
    "X_std = std.fit_transform(X_new)\n",
    "print(\"\\n\\nStandardized X : \\n\", X_std)"
   ]
  },
  {
   "cell_type": "markdown",
   "metadata": {},
   "source": [
    "### ***HANDLING CATEGORICAL DATA*** "
   ]
  },
  {
   "cell_type": "code",
   "execution_count": 11,
   "metadata": {},
   "outputs": [
    {
     "name": "stdout",
     "output_type": "stream",
     "text": [
      "\n",
      "Data :\n",
      "       Unnamed: 0  Price   Age     KM FuelType   HP  MetColor  Automatic    CC  \\\n",
      "0              0  13500  23.0  46986   Diesel   90       1.0          0  2000   \n",
      "1              1  13750  23.0  72937   Diesel   90       1.0          0  2000   \n",
      "3              3  14950  26.0  48000   Diesel   90       0.0          0  2000   \n",
      "4              4  13750  30.0  38500   Diesel   90       0.0          0  2000   \n",
      "5              5  12950  32.0  61000   Diesel   90       0.0          0  2000   \n",
      "...          ...    ...   ...    ...      ...  ...       ...        ...   ...   \n",
      "1425        1425   7950  80.0  50000   Petrol   86       1.0          0  1300   \n",
      "1429        1429   8950  78.0  24000   Petrol   86       1.0          1  1300   \n",
      "1430        1430   8450  80.0  23000   Petrol   86       0.0          0  1300   \n",
      "1432        1432  10845  72.0  50000   Petrol   86       0.0          0  1300   \n",
      "1435        1435   6950  76.0      1   Petrol  110       0.0          0  1600   \n",
      "\n",
      "     Doors  Weight  \n",
      "0        3    1165  \n",
      "1        3    1165  \n",
      "3        3    1165  \n",
      "4        3    1170  \n",
      "5        3    1170  \n",
      "...    ...     ...  \n",
      "1425     4    1000  \n",
      "1429     5    1065  \n",
      "1430     3    1015  \n",
      "1432     3    1015  \n",
      "1435     5    1114  \n",
      "\n",
      "[1111 rows x 11 columns]\n"
     ]
    }
   ],
   "source": [
    "from sklearn.preprocessing import LabelEncoder,OneHotEncoder\n",
    "print(\"\\nData :\\n\",datasets)"
   ]
  },
  {
   "cell_type": "code",
   "execution_count": 12,
   "metadata": {},
   "outputs": [
    {
     "name": "stdout",
     "output_type": "stream",
     "text": [
      "\n",
      "Data statistics\n",
      "         Unnamed: 0         Price          Age     MetColor    Automatic  \\\n",
      "count  1111.000000   1111.000000  1111.000000  1111.000000  1111.000000   \n",
      "mean    707.868587  10774.997300    55.585959     0.675068     0.053105   \n",
      "std     414.023750   3699.695538    18.829188     0.468561     0.224344   \n",
      "min       0.000000   4350.000000     1.000000     0.000000     0.000000   \n",
      "25%     347.500000   8450.000000    43.000000     0.000000     0.000000   \n",
      "50%     703.000000   9900.000000    60.000000     1.000000     0.000000   \n",
      "75%    1069.500000  11950.000000    70.000000     1.000000     0.000000   \n",
      "max    1435.000000  31275.000000    80.000000     1.000000     1.000000   \n",
      "\n",
      "                CC       Weight  \n",
      "count  1111.000000  1111.000000  \n",
      "mean   1569.463546  1073.870387  \n",
      "std     185.935691    52.610513  \n",
      "min    1300.000000  1000.000000  \n",
      "25%    1400.000000  1045.000000  \n",
      "50%    1600.000000  1070.000000  \n",
      "75%    1600.000000  1090.000000  \n",
      "max    2000.000000  1615.000000  \n"
     ]
    }
   ],
   "source": [
    "print(\"\\nData statistics\\n\",datasets.describe())"
   ]
  },
  {
   "cell_type": "code",
   "execution_count": 13,
   "metadata": {},
   "outputs": [
    {
     "name": "stdout",
     "output_type": "stream",
     "text": [
      "\n",
      "\n",
      "Input : \n",
      " [[0 13500 23.0 ... 0 2000 3]\n",
      " [1 13750 23.0 ... 0 2000 '3']\n",
      " [3 14950 26.0 ... 0 2000 '3']\n",
      " ...\n",
      " [1430 8450 80.0 ... 0 1300 '3']\n",
      " [1432 10845 72.0 ... 0 1300 '3']\n",
      " [1435 6950 76.0 ... 0 1600 '5']]\n",
      "\n",
      "\n",
      "Output: \n",
      " [1165 1165 1165 ... 1015 1015 1114]\n"
     ]
    }
   ],
   "source": [
    "# All rows, all columns except last \n",
    "X = datasets.iloc[:, :-1].values \n",
    "  \n",
    "# Only last column  \n",
    "Y = datasets.iloc[:, -1].values \n",
    "\n",
    "print(\"\\n\\nInput : \\n\", X) \n",
    "print(\"\\n\\nOutput: \\n\", Y) "
   ]
  },
  {
   "cell_type": "code",
   "execution_count": 14,
   "metadata": {},
   "outputs": [
    {
     "name": "stdout",
     "output_type": "stream",
     "text": [
      "\n",
      "\n",
      "Input : \n",
      " [[0 13500 23.0 ... 0 2000 3]\n",
      " [1 13750 23.0 ... 0 2000 '3']\n",
      " [3 14950 26.0 ... 0 2000 '3']\n",
      " ...\n",
      " [1430 8450 80.0 ... 0 1300 '3']\n",
      " [1432 10845 72.0 ... 0 1300 '3']\n",
      " [1435 6950 76.0 ... 0 1600 '5']]\n",
      "[1 1 1 ... 2 2 2]\n"
     ]
    }
   ],
   "source": [
    "le = LabelEncoder()\n",
    "X[ : ,4] = le.fit_transform(X[ : ,4])\n",
    "print(\"\\n\\nInput : \\n\", X) \n",
    "\n",
    "print(X[:,4])"
   ]
  },
  {
   "cell_type": "code",
   "execution_count": 15,
   "metadata": {},
   "outputs": [
    {
     "name": "stdout",
     "output_type": "stream",
     "text": [
      "\n",
      "\n",
      "Dummy :\n",
      "       CNG  Diesel  Petrol\n",
      "0       0       1       0\n",
      "1       0       1       0\n",
      "3       0       1       0\n",
      "4       0       1       0\n",
      "5       0       1       0\n",
      "...   ...     ...     ...\n",
      "1425    0       0       1\n",
      "1429    0       0       1\n",
      "1430    0       0       1\n",
      "1432    0       0       1\n",
      "1435    0       0       1\n",
      "\n",
      "[1111 rows x 3 columns]\n"
     ]
    }
   ],
   "source": [
    "dummy = pd.get_dummies(datasets['FuelType'])\n",
    "print(\"\\n\\nDummy :\\n\",dummy)"
   ]
  },
  {
   "cell_type": "code",
   "execution_count": 16,
   "metadata": {},
   "outputs": [
    {
     "name": "stdout",
     "output_type": "stream",
     "text": [
      "\n",
      "\n",
      "Final Data :\n",
      "       CNG  Diesel  Petrol  Unnamed: 0  Price   Age     KM   HP  MetColor  \\\n",
      "0       0       1       0           0  13500  23.0  46986   90       1.0   \n",
      "1       0       1       0           1  13750  23.0  72937   90       1.0   \n",
      "3       0       1       0           3  14950  26.0  48000   90       0.0   \n",
      "4       0       1       0           4  13750  30.0  38500   90       0.0   \n",
      "5       0       1       0           5  12950  32.0  61000   90       0.0   \n",
      "...   ...     ...     ...         ...    ...   ...    ...  ...       ...   \n",
      "1425    0       0       1        1425   7950  80.0  50000   86       1.0   \n",
      "1429    0       0       1        1429   8950  78.0  24000   86       1.0   \n",
      "1430    0       0       1        1430   8450  80.0  23000   86       0.0   \n",
      "1432    0       0       1        1432  10845  72.0  50000   86       0.0   \n",
      "1435    0       0       1        1435   6950  76.0      1  110       0.0   \n",
      "\n",
      "      Automatic    CC Doors  Weight  \n",
      "0             0  2000     3    1165  \n",
      "1             0  2000     3    1165  \n",
      "3             0  2000     3    1165  \n",
      "4             0  2000     3    1170  \n",
      "5             0  2000     3    1170  \n",
      "...         ...   ...   ...     ...  \n",
      "1425          0  1300     4    1000  \n",
      "1429          1  1300     5    1065  \n",
      "1430          0  1300     3    1015  \n",
      "1432          0  1300     3    1015  \n",
      "1435          0  1600     5    1114  \n",
      "\n",
      "[1111 rows x 13 columns]\n"
     ]
    }
   ],
   "source": [
    "datasets = datasets.drop(['FuelType'],axis=1)\n",
    "datasets = pd.concat([dummy,datasets],axis=1)\n",
    "print(\"\\n\\nFinal Data :\\n\",datasets)"
   ]
  },
  {
   "cell_type": "code",
   "execution_count": 17,
   "metadata": {},
   "outputs": [
    {
     "name": "stdout",
     "output_type": "stream",
     "text": [
      "[[0. 1. 0. 0.]\n",
      " [0. 1. 0. 0.]\n",
      " [0. 1. 0. 0.]\n",
      " ...\n",
      " [0. 0. 1. 0.]\n",
      " [0. 0. 0. 1.]\n",
      " [0. 0. 1. 0.]]\n"
     ]
    }
   ],
   "source": [
    "onehotencoder = OneHotEncoder()\n",
    "datasets = pd.read_csv('./Exercise-CarData.csv') \n",
    "#reshape the 1-D country array to 2-D as fit_transform expects 2-D and finally fit the object \n",
    "x = onehotencoder.fit_transform(datasets.FuelType.values.reshape(-1,1)).toarray()\n",
    "print(x)"
   ]
  },
  {
   "cell_type": "code",
   "execution_count": 18,
   "metadata": {},
   "outputs": [
    {
     "name": "stdout",
     "output_type": "stream",
     "text": [
      "   Unnamed: 0  Price   Age     KM  HP  MetColor  Automatic    CC  Doors  \\\n",
      "0           0  13500  23.0  46986  90       1.0          0  2000  three   \n",
      "1           1  13750  23.0  72937  90       1.0          0  2000      3   \n",
      "2           2  13950  24.0  41711  90       NaN          0  2000      3   \n",
      "3           3  14950  26.0  48000  90       0.0          0  2000      3   \n",
      "4           4  13750  30.0  38500  90       0.0          0  2000      3   \n",
      "\n",
      "   Weight  FuelType_0  FuelType_1  FuelType_2  FuelType_3  \n",
      "0    1165         0.0         1.0         0.0         0.0  \n",
      "1    1165         0.0         1.0         0.0         0.0  \n",
      "2    1165         0.0         1.0         0.0         0.0  \n",
      "3    1165         0.0         1.0         0.0         0.0  \n",
      "4    1170         0.0         1.0         0.0         0.0  \n"
     ]
    }
   ],
   "source": [
    "dfOneHot = pd.DataFrame(x, columns = [\"FuelType_\"+str(int(i)) for i in range(4)]) \n",
    "df = pd.concat([datasets, dfOneHot], axis=1) #column\n",
    "\n",
    "df= df.drop(['FuelType'], axis=1) \n",
    " \n",
    "print(df.head())"
   ]
  },
  {
   "cell_type": "code",
   "execution_count": 19,
   "metadata": {},
   "outputs": [
    {
     "data": {
      "text/html": [
       "<div>\n",
       "<style scoped>\n",
       "    .dataframe tbody tr th:only-of-type {\n",
       "        vertical-align: middle;\n",
       "    }\n",
       "\n",
       "    .dataframe tbody tr th {\n",
       "        vertical-align: top;\n",
       "    }\n",
       "\n",
       "    .dataframe thead th {\n",
       "        text-align: right;\n",
       "    }\n",
       "</style>\n",
       "<table border=\"1\" class=\"dataframe\">\n",
       "  <thead>\n",
       "    <tr style=\"text-align: right;\">\n",
       "      <th></th>\n",
       "      <th>Unnamed: 0</th>\n",
       "      <th>Price</th>\n",
       "      <th>Age</th>\n",
       "      <th>KM</th>\n",
       "      <th>FuelType</th>\n",
       "      <th>HP</th>\n",
       "      <th>MetColor</th>\n",
       "      <th>Automatic</th>\n",
       "      <th>CC</th>\n",
       "      <th>Doors</th>\n",
       "      <th>Weight</th>\n",
       "    </tr>\n",
       "  </thead>\n",
       "  <tbody>\n",
       "    <tr>\n",
       "      <th>0</th>\n",
       "      <td>0</td>\n",
       "      <td>13500</td>\n",
       "      <td>23.0</td>\n",
       "      <td>46986</td>\n",
       "      <td>Diesel</td>\n",
       "      <td>90</td>\n",
       "      <td>1.0</td>\n",
       "      <td>0</td>\n",
       "      <td>2000</td>\n",
       "      <td>three</td>\n",
       "      <td>1165</td>\n",
       "    </tr>\n",
       "    <tr>\n",
       "      <th>1</th>\n",
       "      <td>1</td>\n",
       "      <td>13750</td>\n",
       "      <td>23.0</td>\n",
       "      <td>72937</td>\n",
       "      <td>Diesel</td>\n",
       "      <td>90</td>\n",
       "      <td>1.0</td>\n",
       "      <td>0</td>\n",
       "      <td>2000</td>\n",
       "      <td>3</td>\n",
       "      <td>1165</td>\n",
       "    </tr>\n",
       "    <tr>\n",
       "      <th>2</th>\n",
       "      <td>2</td>\n",
       "      <td>13950</td>\n",
       "      <td>24.0</td>\n",
       "      <td>41711</td>\n",
       "      <td>Diesel</td>\n",
       "      <td>90</td>\n",
       "      <td>NaN</td>\n",
       "      <td>0</td>\n",
       "      <td>2000</td>\n",
       "      <td>3</td>\n",
       "      <td>1165</td>\n",
       "    </tr>\n",
       "    <tr>\n",
       "      <th>3</th>\n",
       "      <td>3</td>\n",
       "      <td>14950</td>\n",
       "      <td>26.0</td>\n",
       "      <td>48000</td>\n",
       "      <td>Diesel</td>\n",
       "      <td>90</td>\n",
       "      <td>0.0</td>\n",
       "      <td>0</td>\n",
       "      <td>2000</td>\n",
       "      <td>3</td>\n",
       "      <td>1165</td>\n",
       "    </tr>\n",
       "    <tr>\n",
       "      <th>4</th>\n",
       "      <td>4</td>\n",
       "      <td>13750</td>\n",
       "      <td>30.0</td>\n",
       "      <td>38500</td>\n",
       "      <td>Diesel</td>\n",
       "      <td>90</td>\n",
       "      <td>0.0</td>\n",
       "      <td>0</td>\n",
       "      <td>2000</td>\n",
       "      <td>3</td>\n",
       "      <td>1170</td>\n",
       "    </tr>\n",
       "  </tbody>\n",
       "</table>\n",
       "</div>"
      ],
      "text/plain": [
       "   Unnamed: 0  Price   Age     KM FuelType  HP  MetColor  Automatic    CC  \\\n",
       "0           0  13500  23.0  46986   Diesel  90       1.0          0  2000   \n",
       "1           1  13750  23.0  72937   Diesel  90       1.0          0  2000   \n",
       "2           2  13950  24.0  41711   Diesel  90       NaN          0  2000   \n",
       "3           3  14950  26.0  48000   Diesel  90       0.0          0  2000   \n",
       "4           4  13750  30.0  38500   Diesel  90       0.0          0  2000   \n",
       "\n",
       "   Doors  Weight  \n",
       "0  three    1165  \n",
       "1      3    1165  \n",
       "2      3    1165  \n",
       "3      3    1165  \n",
       "4      3    1170  "
      ]
     },
     "execution_count": 19,
     "metadata": {},
     "output_type": "execute_result"
    }
   ],
   "source": [
    "import seaborn as sns\n",
    "data = pd.read_csv('./Exercise-CarData.csv')\n",
    "data.head()"
   ]
  },
  {
   "cell_type": "code",
   "execution_count": 20,
   "metadata": {},
   "outputs": [
    {
     "name": "stdout",
     "output_type": "stream",
     "text": [
      "<class 'pandas.core.frame.DataFrame'>\n",
      "RangeIndex: 1436 entries, 0 to 1435\n",
      "Data columns (total 11 columns):\n",
      " #   Column      Non-Null Count  Dtype  \n",
      "---  ------      --------------  -----  \n",
      " 0   Unnamed: 0  1436 non-null   int64  \n",
      " 1   Price       1436 non-null   int64  \n",
      " 2   Age         1336 non-null   float64\n",
      " 3   KM          1436 non-null   object \n",
      " 4   FuelType    1336 non-null   object \n",
      " 5   HP          1436 non-null   object \n",
      " 6   MetColor    1286 non-null   float64\n",
      " 7   Automatic   1436 non-null   int64  \n",
      " 8   CC          1436 non-null   int64  \n",
      " 9   Doors       1436 non-null   object \n",
      " 10  Weight      1436 non-null   int64  \n",
      "dtypes: float64(2), int64(5), object(4)\n",
      "memory usage: 123.5+ KB\n"
     ]
    }
   ],
   "source": [
    "data.info()"
   ]
  },
  {
   "cell_type": "code",
   "execution_count": 21,
   "metadata": {},
   "outputs": [
    {
     "data": {
      "text/html": [
       "<div>\n",
       "<style scoped>\n",
       "    .dataframe tbody tr th:only-of-type {\n",
       "        vertical-align: middle;\n",
       "    }\n",
       "\n",
       "    .dataframe tbody tr th {\n",
       "        vertical-align: top;\n",
       "    }\n",
       "\n",
       "    .dataframe thead th {\n",
       "        text-align: right;\n",
       "    }\n",
       "</style>\n",
       "<table border=\"1\" class=\"dataframe\">\n",
       "  <thead>\n",
       "    <tr style=\"text-align: right;\">\n",
       "      <th></th>\n",
       "      <th>Unnamed: 0</th>\n",
       "      <th>Price</th>\n",
       "      <th>Age</th>\n",
       "      <th>MetColor</th>\n",
       "      <th>Automatic</th>\n",
       "      <th>CC</th>\n",
       "      <th>Weight</th>\n",
       "    </tr>\n",
       "  </thead>\n",
       "  <tbody>\n",
       "    <tr>\n",
       "      <th>Unnamed: 0</th>\n",
       "      <td>1.000000</td>\n",
       "      <td>-0.738289</td>\n",
       "      <td>0.907090</td>\n",
       "      <td>-0.078616</td>\n",
       "      <td>0.066299</td>\n",
       "      <td>-0.184490</td>\n",
       "      <td>-0.414577</td>\n",
       "    </tr>\n",
       "    <tr>\n",
       "      <th>Price</th>\n",
       "      <td>-0.738289</td>\n",
       "      <td>1.000000</td>\n",
       "      <td>-0.878407</td>\n",
       "      <td>0.112041</td>\n",
       "      <td>0.033081</td>\n",
       "      <td>0.165067</td>\n",
       "      <td>0.581198</td>\n",
       "    </tr>\n",
       "    <tr>\n",
       "      <th>Age</th>\n",
       "      <td>0.907090</td>\n",
       "      <td>-0.878407</td>\n",
       "      <td>1.000000</td>\n",
       "      <td>-0.099659</td>\n",
       "      <td>0.032573</td>\n",
       "      <td>-0.120706</td>\n",
       "      <td>-0.464299</td>\n",
       "    </tr>\n",
       "    <tr>\n",
       "      <th>MetColor</th>\n",
       "      <td>-0.078616</td>\n",
       "      <td>0.112041</td>\n",
       "      <td>-0.099659</td>\n",
       "      <td>1.000000</td>\n",
       "      <td>-0.013973</td>\n",
       "      <td>0.029189</td>\n",
       "      <td>0.057142</td>\n",
       "    </tr>\n",
       "    <tr>\n",
       "      <th>Automatic</th>\n",
       "      <td>0.066299</td>\n",
       "      <td>0.033081</td>\n",
       "      <td>0.032573</td>\n",
       "      <td>-0.013973</td>\n",
       "      <td>1.000000</td>\n",
       "      <td>-0.069321</td>\n",
       "      <td>0.057249</td>\n",
       "    </tr>\n",
       "  </tbody>\n",
       "</table>\n",
       "</div>"
      ],
      "text/plain": [
       "            Unnamed: 0     Price       Age  MetColor  Automatic        CC  \\\n",
       "Unnamed: 0    1.000000 -0.738289  0.907090 -0.078616   0.066299 -0.184490   \n",
       "Price        -0.738289  1.000000 -0.878407  0.112041   0.033081  0.165067   \n",
       "Age           0.907090 -0.878407  1.000000 -0.099659   0.032573 -0.120706   \n",
       "MetColor     -0.078616  0.112041 -0.099659  1.000000  -0.013973  0.029189   \n",
       "Automatic     0.066299  0.033081  0.032573 -0.013973   1.000000 -0.069321   \n",
       "\n",
       "              Weight  \n",
       "Unnamed: 0 -0.414577  \n",
       "Price       0.581198  \n",
       "Age        -0.464299  \n",
       "MetColor    0.057142  \n",
       "Automatic   0.057249  "
      ]
     },
     "execution_count": 21,
     "metadata": {},
     "output_type": "execute_result"
    }
   ],
   "source": [
    "corr = data.corr()\n",
    "corr.head()"
   ]
  },
  {
   "cell_type": "code",
   "execution_count": 22,
   "metadata": {},
   "outputs": [
    {
     "data": {
      "text/plain": [
       "<AxesSubplot:>"
      ]
     },
     "execution_count": 22,
     "metadata": {},
     "output_type": "execute_result"
    },
    {
     "data": {
      "image/png": "[encoded data removed]",
      "text/plain": [
       "<Figure size 432x288 with 2 Axes>"
      ]
     },
     "metadata": {
      "needs_background": "light"
     },
     "output_type": "display_data"
    }
   ],
   "source": [
    "sns.heatmap(corr)"
   ]
  },
  {
   "cell_type": "code",
   "execution_count": 24,
   "metadata": {},
   "outputs": [],
   "source": [
    "columns = np.full((corr.shape[0],), True, dtype=bool)\n",
    "for i in range(corr.shape[0]):\n",
    "    for j in range(i+1, corr.shape[0]):\n",
    "        if corr.iloc[i,j] >= 0.9:\n",
    "            if columns[j]:\n",
    "                columns[j] = False"
   ]
  },
  {
   "cell_type": "code",
   "execution_count": 25,
   "metadata": {},
   "outputs": [
    {
     "name": "stdout",
     "output_type": "stream",
     "text": [
      "Automatic\n"
     ]
    }
   ],
   "source": [
    "selected_columns = data.columns[j+1]\n",
    "print(selected_columns)"
   ]
  },
  {
   "cell_type": "code",
   "execution_count": 26,
   "metadata": {},
   "outputs": [
    {
     "name": "stdout",
     "output_type": "stream",
     "text": [
      "0       0\n",
      "1       0\n",
      "2       0\n",
      "3       0\n",
      "4       0\n",
      "       ..\n",
      "1431    0\n",
      "1432    0\n",
      "1433    0\n",
      "1434    0\n",
      "1435    0\n",
      "Name: Automatic, Length: 1436, dtype: int64\n"
     ]
    }
   ],
   "source": [
    "data = data[selected_columns]\n",
    "print(data)"
   ]
  }
 ],
 "metadata": {
  "interpreter": {
   "hash": "63fd5069d213b44bf678585dea6b12cceca9941eaf7f819626cde1f2670de90d"
  },
  "kernelspec": {
   "display_name": "Python 3.9.6 64-bit",
   "language": "python",
   "name": "python3"
  },
  "language_info": {
   "codemirror_mode": {
    "name": "ipython",
    "version": 3
   },
   "file_extension": ".py",
   "mimetype": "text/x-python",
   "name": "python",
   "nbconvert_exporter": "python",
   "pygments_lexer": "ipython3",
   "version": "3.9.6"
  },
  "orig_nbformat": 4
 },
 "nbformat": 4,
 "nbformat_minor": 2
}
